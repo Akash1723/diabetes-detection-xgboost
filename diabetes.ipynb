{
 "cells": [
  {
   "cell_type": "code",
   "execution_count": 1,
   "id": "0e79e070-2de4-4173-97ad-b1d7b7aa58b9",
   "metadata": {},
   "outputs": [],
   "source": [
    "import pandas as pd\n",
    "import numpy as np\n",
    "import matplotlib.pyplot as plt\n",
    "import seaborn as sns\n",
    "from sklearn.metrics import accuracy_score,confusion_matrix,classification_report\n",
    "from sklearn.pipeline import Pipeline\n",
    "from sklearn.preprocessing import StandardScaler\n",
    "from sklearn.model_selection import train_test_split\n",
    "from xgboost import XGBClassifier"
   ]
  },
  {
   "cell_type": "code",
   "execution_count": 3,
   "id": "542b729a-ea10-4dbb-958d-d89587f937b3",
   "metadata": {},
   "outputs": [],
   "source": [
    "df=pd.read_csv(\"diabetes.csv\")\n",
    "y=df['Outcome']\n",
    "X=df.drop(columns='Outcome')\n",
    "X_train,X_test,y_train,y_test=train_test_split(X,y,test_size=0.2)"
   ]
  },
  {
   "cell_type": "code",
   "execution_count": 4,
   "id": "6a378df1-bb2c-4eff-b38b-0c43882fe336",
   "metadata": {},
   "outputs": [],
   "source": [
    "pipe=Pipeline([('scale',StandardScaler()),('model',XGBClassifier(objective='binary:logistic',eval_metric='error',learning_rate=0.1,max_depth=5,n_estimators=10))])"
   ]
  },
  {
   "cell_type": "code",
   "execution_count": 5,
   "id": "be02a161-79a6-4924-8449-f71c51d444a6",
   "metadata": {},
   "outputs": [
    {
     "name": "stdout",
     "output_type": "stream",
     "text": [
      "Accuracy of the model: 79.22%\n"
     ]
    }
   ],
   "source": [
    "pipe.fit(X_train,y_train)\n",
    "best_pred=pipe.predict(X_test)\n",
    "acc_sc=accuracy_score(best_pred,y_test)\n",
    "print(f\"Accuracy of the model: {acc_sc * 100:.2f}%\")"
   ]
  },
  {
   "cell_type": "code",
   "execution_count": 6,
   "id": "362b8e9a-68fe-4daa-b853-ba36bbd4a1e1",
   "metadata": {},
   "outputs": [
    {
     "name": "stdout",
     "output_type": "stream",
     "text": [
      "              precision    recall  f1-score   support\n",
      "\n",
      "           0       0.81      0.90      0.85       104\n",
      "           1       0.74      0.56      0.64        50\n",
      "\n",
      "    accuracy                           0.79       154\n",
      "   macro avg       0.77      0.73      0.75       154\n",
      "weighted avg       0.79      0.79      0.78       154\n",
      "\n"
     ]
    }
   ],
   "source": [
    "print(classification_report(y_test, best_pred))"
   ]
  },
  {
   "cell_type": "code",
   "execution_count": 7,
   "id": "ef395e46-07d4-4efa-ba26-5d75c5691ceb",
   "metadata": {},
   "outputs": [
    {
     "data": {
      "text/plain": [
       "<Axes: >"
      ]
     },
     "execution_count": 7,
     "metadata": {},
     "output_type": "execute_result"
    },
    {
     "data": {
      "image/png": "[encoded data removed]",
      "text/plain": [
       "<Figure size 640x480 with 2 Axes>"
      ]
     },
     "metadata": {},
     "output_type": "display_data"
    }
   ],
   "source": [
    "cm = confusion_matrix(y_test, best_pred)\n",
    "sns.heatmap(cm, fmt = 'd', annot = True)"
   ]
  },
  {
   "cell_type": "code",
   "execution_count": null,
   "id": "6b591dd5-decd-495f-ad25-4d6bc5bb25e1",
   "metadata": {},
   "outputs": [],
   "source": []
  }
 ],
 "metadata": {
  "kernelspec": {
   "display_name": "Python 3 (ipykernel)",
   "language": "python",
   "name": "python3"
  },
  "language_info": {
   "codemirror_mode": {
    "name": "ipython",
    "version": 3
   },
   "file_extension": ".py",
   "mimetype": "text/x-python",
   "name": "python",
   "nbconvert_exporter": "python",
   "pygments_lexer": "ipython3",
   "version": "3.8.0"
  }
 },
 "nbformat": 4,
 "nbformat_minor": 5
}
